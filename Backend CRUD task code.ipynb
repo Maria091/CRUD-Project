{
 "cells": [
  {
   "cell_type": "code",
   "execution_count": 3,
   "id": "1e598a46",
   "metadata": {},
   "outputs": [
    {
     "data": {
      "text/plain": [
       "'4.6.3'"
      ]
     },
     "execution_count": 3,
     "metadata": {},
     "output_type": "execute_result"
    }
   ],
   "source": [
    "import pymongo\n",
    "from pymongo import MongoClient\n",
    "pymongo.__version__"
   ]
  },
  {
   "cell_type": "markdown",
   "id": "d24480fa",
   "metadata": {},
   "source": [
    "# Connection"
   ]
  },
  {
   "cell_type": "code",
   "execution_count": 4,
   "id": "5e5d5e88",
   "metadata": {},
   "outputs": [],
   "source": [
    "client = MongoClient('mongodb://localhost:27017/StudentDatabaseManagementSystem')\n"
   ]
  },
  {
   "cell_type": "code",
   "execution_count": 5,
   "id": "763bdc92",
   "metadata": {},
   "outputs": [
    {
     "data": {
      "text/plain": [
       "['StudentDatabaseManagementSystem',\n",
       " 'Studentdatabase',\n",
       " 'admin',\n",
       " 'config',\n",
       " 'local']"
      ]
     },
     "execution_count": 5,
     "metadata": {},
     "output_type": "execute_result"
    }
   ],
   "source": [
    "#calling the database\n",
    "db = client.StudentDabatabseMangementSystem\n",
    "client.list_database_names()"
   ]
  },
  {
   "cell_type": "code",
   "execution_count": 71,
   "id": "7f54362d",
   "metadata": {},
   "outputs": [
    {
     "name": "stdout",
     "output_type": "stream",
     "text": [
      "['Enrollments', 'Courses', 'BorrowedBooks', 'ClassSchedule', 'LibraryResources', 'Students_info', 'Attendance', 'students_info', 'Academic_record', 'Placements', 'FinancialTransaction']\n"
     ]
    }
   ],
   "source": [
    "db = client['StudentDatabaseManagementSystem']\n",
    "print(db.list_collection_names())"
   ]
  },
  {
   "cell_type": "code",
   "execution_count": 73,
   "id": "bbadfb0b",
   "metadata": {
    "scrolled": true
   },
   "outputs": [
    {
     "name": "stdout",
     "output_type": "stream",
     "text": [
      "{'_id': 1, 'FirstName': 'John', 'LastName': 'Doe', 'DateOfBirth': '1990-05-15', 'ContactNumber': '123-456-7890', 'Email': 'john.doe@example.com'}\n",
      "{'_id': 2, 'FirstName': 'Jane', 'LastName': 'Smith', 'DateOfBirth': '1992-08-22', 'ContactNumber': '987-654-3210', 'Email': 'jane.smith@example.com'}\n",
      "{'_id': 3, 'FirstName': 'Mike', 'LastName': 'Johnson', 'DateOfBirth': '1995-03-10', 'ContactNumber': '555-123-4567', 'Email': 'mike.johnson@example.com'}\n",
      "{'_id': 4, 'FirstName': 'Emily', 'LastName': 'Brown', 'DateOfBirth': '1998-11-28', 'ContactNumber': '777-888-9999', 'Email': 'emily.brown@example.com'}\n",
      "{'_id': 5, 'FirstName': 'David', 'LastName': 'Williams', 'DateOfBirth': '1993-06-05', 'ContactNumber': '111-222-3333', 'Email': 'david.williams@example.com'}\n",
      "{'_id': 6, 'FirstName': 'Pawan', 'LastName': 'Johnson', 'DateOfBirth': '2001-02-15', 'ContactNumber': '555-1234', 'Email': 'pawan.charlie.brown@mail.com'}\n",
      "{'_id': 7, 'FirstName': 'Pawan', 'LastName': 'Karthik', 'DateOfBirth': '2001-02-15', 'ContactNumber': '5255-1234', 'Email': 'pawan.mythri.brown@mail.com'}\n",
      "{'_id': 8, 'FirstName': 'Piyush', 'LastName': 'Karthik', 'DateOfBirth': '2001-02-15', 'ContactNumber': '5255-1234', 'Email': 'pk.johnson@example.com'}\n"
     ]
    }
   ],
   "source": [
    "students_collection = db.Students_info\n",
    "for student in students_collection.find():\n",
    "    print(student)"
   ]
  },
  {
   "cell_type": "code",
   "execution_count": 74,
   "id": "77c3e67c",
   "metadata": {},
   "outputs": [
    {
     "data": {
      "text/plain": [
       "InsertOneResult(9, acknowledged=True)"
      ]
     },
     "execution_count": 74,
     "metadata": {},
     "output_type": "execute_result"
    }
   ],
   "source": [
    "new_Students_info = {\n",
    "    \"_id\": 9,\n",
    "    \"FirstName\": \"Mythri\",\n",
    "    \"LastName\": \"Krpet Jayaram\",\n",
    "    \"DateOfBirth\": \"1997-08-04\",\n",
    "    \"ContactNumber\": \"7455-1634\",\n",
    "    \"Email\": \"myth@example.com\"\n",
    "}\n",
    "students_collection.insert_one(new_Students_info)"
   ]
  },
  {
   "cell_type": "code",
   "execution_count": 58,
   "id": "8bd7b9fe",
   "metadata": {},
   "outputs": [
    {
     "name": "stdout",
     "output_type": "stream",
     "text": [
      "{'_id': 101, 'CourseName': 'Introduction to Computer Science'}\n",
      "{'_id': 102, 'CourseName': 'Data Structures and Algorithms'}\n",
      "{'_id': 103, 'CourseName': 'Database Management Systems'}\n",
      "{'_id': 104, 'CourseName': 'Software Engineering'}\n",
      "{'_id': 105, 'CourseName': 'Artificial Intelligence'}\n",
      "{'_id': 106, 'CourseName': 'Special Topics in CIS'}\n",
      "{'_id': 107, 'CourseName': 'Special Topics in MTH'}\n"
     ]
    }
   ],
   "source": [
    "Courses_collection = db.Courses\n",
    "for courses in Courses_collection.find():\n",
    "    print(courses)"
   ]
  },
  {
   "cell_type": "code",
   "execution_count": 75,
   "id": "dec1989f",
   "metadata": {},
   "outputs": [
    {
     "name": "stdout",
     "output_type": "stream",
     "text": [
      "{'_id': 101, 'CourseName': 'Introduction to Computer Science'}\n"
     ]
    }
   ],
   "source": [
    "course = db.Courses.find_one({\"_id\": 101})\n",
    "print(course)"
   ]
  },
  {
   "cell_type": "code",
   "execution_count": 84,
   "id": "d4bdcf56",
   "metadata": {},
   "outputs": [
    {
     "data": {
      "text/plain": [
       "InsertOneResult(109, acknowledged=True)"
      ]
     },
     "execution_count": 84,
     "metadata": {},
     "output_type": "execute_result"
    }
   ],
   "source": [
    "new_Courses = {\n",
    "    \"_id\": 109,\n",
    "    \"CourseName\": \"Advance MTH Stats\"\n",
    "}\n",
    "Courses_collection.insert_one(new_Courses)"
   ]
  },
  {
   "cell_type": "code",
   "execution_count": 85,
   "id": "6eec0b6a",
   "metadata": {},
   "outputs": [
    {
     "name": "stdout",
     "output_type": "stream",
     "text": [
      "{'_id': 101, 'CourseName': 'Introduction to Computer Science'}\n",
      "{'_id': 102, 'CourseName': 'Data Structures and Algorithms'}\n",
      "{'_id': 103, 'CourseName': 'Database Management Systems'}\n",
      "{'_id': 104, 'CourseName': 'Software Engineering'}\n",
      "{'_id': 105, 'CourseName': 'Artificial Intelligence'}\n",
      "{'_id': 106, 'CourseName': 'Special Topics in CIS'}\n",
      "{'_id': 107, 'CourseName': 'Special Topics in MTH'}\n",
      "{'_id': 108, 'CourseName': 'Adavance Data Mining'}\n",
      "{'_id': 109, 'CourseName': 'Advance MTH Stats'}\n"
     ]
    }
   ],
   "source": [
    "# Read and iterate through student documents\n",
    "cursor = db.Courses.find()\n",
    "for Courses in cursor:\n",
    "    print(Courses)"
   ]
  },
  {
   "cell_type": "markdown",
   "id": "330af986",
   "metadata": {},
   "source": [
    "# Read Commands"
   ]
  },
  {
   "cell_type": "code",
   "execution_count": 86,
   "id": "f335d262",
   "metadata": {},
   "outputs": [
    {
     "name": "stdout",
     "output_type": "stream",
     "text": [
      "{'_id': 1, 'FirstName': 'John', 'LastName': 'Doe', 'DateOfBirth': '1990-05-15', 'ContactNumber': '123-456-7890', 'Email': 'john.doe@example.com'}\n",
      "{'_id': 4, 'FirstName': 'Emily', 'LastName': 'Brown', 'DateOfBirth': '1998-11-28', 'ContactNumber': '777-888-9999', 'Email': 'emily.brown@example.com'}\n"
     ]
    }
   ],
   "source": [
    "Course_id_to_find = 101  # Assuming you want to find students enrolled in course 101\n",
    "Enrollments = db.Enrollments.find({\"CourseID\": Course_id_to_find})\n",
    "\n",
    "# Assuming you have student IDs in the enrollments and you want to fetch those students\n",
    "for Enrollment in Enrollments:\n",
    "    student = db.Students_info.find_one({\"_id\": Enrollment[\"StudentID\"]})\n",
    "    print(student)"
   ]
  },
  {
   "cell_type": "code",
   "execution_count": 88,
   "id": "dad41b56",
   "metadata": {},
   "outputs": [
    {
     "name": "stdout",
     "output_type": "stream",
     "text": [
      "CourseID: 101 Average Grade: 90.35\n"
     ]
    }
   ],
   "source": [
    "Course_id_to_aggregate = 101  # Assuming you're interested in the average grade for course 101\n",
    "\n",
    "pipeline = [\n",
    "    {\"$match\": {\"CourseID\": Course_id_to_aggregate}},  # Step 1: Filter documents by CourseID\n",
    "    {\"$group\": {                                      # Step 2: Group the filtered documents\n",
    "        \"_id\": \"$CourseID\",                           # Grouping key - in this case, CourseID\n",
    "        \"AverageGrade\": {\"$avg\": \"$Grade\"}            # Calculate the average grade\n",
    "    }}\n",
    "]\n",
    "\n",
    "average_grade = db.Academic_record.aggregate(pipeline)\n",
    "\n",
    "for result in average_grade:\n",
    "    print(\"CourseID:\", result[\"_id\"], \"Average Grade:\", result[\"AverageGrade\"])\n"
   ]
  },
  {
   "cell_type": "code",
   "execution_count": 90,
   "id": "81ca0e59",
   "metadata": {},
   "outputs": [
    {
     "name": "stdout",
     "output_type": "stream",
     "text": [
      "{'_id': 2, 'FirstName': 'Jane', 'LastName': 'Smith', 'DateOfBirth': '1992-08-22', 'ContactNumber': '987-654-3210', 'Email': 'jane.smith@example.com'}\n"
     ]
    }
   ],
   "source": [
    "last_name_to_search = \"Smith\"  # Example last name\n",
    "students = db.Students_info.find({\"LastName\": last_name_to_search}).sort(\"FirstName\", 1).limit(5)\n",
    "\n",
    "for student in students:\n",
    "    print(student)"
   ]
  },
  {
   "cell_type": "markdown",
   "id": "d60c53a2",
   "metadata": {},
   "source": [
    "# Update"
   ]
  },
  {
   "cell_type": "code",
   "execution_count": 91,
   "id": "7c7a1c6e",
   "metadata": {},
   "outputs": [
    {
     "name": "stdout",
     "output_type": "stream",
     "text": [
      "Number of documents updated: 0\n"
     ]
    }
   ],
   "source": [
    "# Update a student's email\n",
    "result = db.students_info.update_one(\n",
    "    {\"_id\": 7},\n",
    "    {\"$set\": {\"Email\": \"pawan.mythri.brown@mail.com\"}}\n",
    ")\n",
    "print(\"Number of documents updated:\", result.modified_count)"
   ]
  },
  {
   "cell_type": "markdown",
   "id": "74310e67",
   "metadata": {},
   "source": [
    "# Delete\n"
   ]
  },
  {
   "cell_type": "code",
   "execution_count": 92,
   "id": "89dac83b",
   "metadata": {},
   "outputs": [
    {
     "name": "stdout",
     "output_type": "stream",
     "text": [
      "Number of documents deleted: 0\n"
     ]
    }
   ],
   "source": [
    "course_id_to_delete = 110  # Specify the CourseID you wish to delete\n",
    "\n",
    "result = db.Courses.delete_one({\"_id\": course_id_to_delete})\n",
    "\n",
    "print(\"Number of documents deleted:\", result.deleted_count)\n"
   ]
  },
  {
   "cell_type": "code",
   "execution_count": null,
   "id": "81987560",
   "metadata": {},
   "outputs": [],
   "source": []
  }
 ],
 "metadata": {
  "kernelspec": {
   "display_name": "Python 3 (ipykernel)",
   "language": "python",
   "name": "python3"
  },
  "language_info": {
   "codemirror_mode": {
    "name": "ipython",
    "version": 3
   },
   "file_extension": ".py",
   "mimetype": "text/x-python",
   "name": "python",
   "nbconvert_exporter": "python",
   "pygments_lexer": "ipython3",
   "version": "3.11.4"
  }
 },
 "nbformat": 4,
 "nbformat_minor": 5
}
